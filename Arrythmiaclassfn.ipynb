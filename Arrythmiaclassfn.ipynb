{
 "cells": [
  {
   "cell_type": "code",
   "execution_count": 2,
   "id": "6133c0ce-e508-43a8-b135-96a93464da7c",
   "metadata": {},
   "outputs": [],
   "source": [
    "import os\n",
    "import pandas as pd\n",
    "import numpy as np\n",
    "from scipy.io import loadmat\n",
    "import matplotlib.pyplot as plt\n"
   ]
  },
  {
   "cell_type": "code",
   "execution_count": 3,
   "id": "6e5e8bb0-1b32-4cd7-88b4-4a53150b1468",
   "metadata": {},
   "outputs": [
    {
     "name": "stdout",
     "output_type": "stream",
     "text": [
      "JS02937: 164889003,55827005,164934002\n",
      "JS03022: 426783006\n",
      "JS03023: 164890007,39732003,164934002\n",
      "JS02936: 426783006\n",
      "JS02934: 426177001,164934002\n"
     ]
    }
   ],
   "source": [
    "import os\n",
    "\n",
    "data_dir = './chapman_data/WFDBRecords/'  # Set this correctly\n",
    "records = []\n",
    "labels = []\n",
    "\n",
    "for root, dirs, files in os.walk(data_dir):\n",
    "    for file in files:\n",
    "        if file.endswith('.hea'):\n",
    "            full_path = os.path.join(root, file)\n",
    "            try:\n",
    "                with open(full_path, 'r') as f:\n",
    "                    lines = f.readlines()\n",
    "                    dx_line = [line for line in lines if line.startswith('#Dx')]\n",
    "                    if dx_line:\n",
    "                        label = dx_line[0].strip().split(':')[1].strip()\n",
    "                        record_id = file.replace('.hea', '')\n",
    "                        records.append(record_id)\n",
    "                        labels.append(label)\n",
    "            except Exception as e:\n",
    "                print(f\"Error reading {file}: {e}\")\n",
    "\n",
    "# Show sample output\n",
    "for r, l in zip(records[:5], labels[:5]):\n",
    "    print(f\"{r}: {l}\")\n"
   ]
  },
  {
   "cell_type": "code",
   "execution_count": 4,
   "id": "a580b1e2-4f8e-4517-8e26-45dce123f269",
   "metadata": {},
   "outputs": [
    {
     "name": "stdout",
     "output_type": "stream",
     "text": [
      "✅ Saved REFERENCE.csv with 45153 records.\n"
     ]
    }
   ],
   "source": [
    "import os\n",
    "import pandas as pd\n",
    "\n",
    "# ==== Load SNOMED Mapping File ====\n",
    "mapping_path = './chapman_data/ConditionNames_SNOMED-CT.csv'  # or .xlsx if applicable\n",
    "map_df = pd.read_csv(mapping_path)\n",
    "code_to_label = dict(zip(map_df['Snomed_CT'].astype(str), map_df['Acronym Name']))\n",
    "\n",
    "# ==== Paths ====\n",
    "data_dir = './chapman_data/WFDBRecords/'  # Adjust this to your folder\n",
    "record_ids = []\n",
    "label_lists = []\n",
    "\n",
    "# ==== Walk Through .hea Files ====\n",
    "for root, _, files in os.walk(data_dir):\n",
    "    for file in files:\n",
    "        if file.endswith('.hea'):\n",
    "            path = os.path.join(root, file)\n",
    "            try:\n",
    "                with open(path, 'r') as f:\n",
    "                    lines = f.readlines()\n",
    "                    dx_line = [line for line in lines if line.startswith('#Dx')]\n",
    "                    if dx_line:\n",
    "                        snomed_codes = dx_line[0].strip().split(':')[1].strip()\n",
    "                        snomed_list = snomed_codes.split(',')\n",
    "                        labels = [code_to_label.get(code.strip(), f\"UNK_{code.strip()}\") for code in snomed_list]\n",
    "                        record_id = file.replace('.hea', '')\n",
    "                        record_ids.append(record_id)\n",
    "                        label_lists.append(','.join(labels))  # Join as CSV-style string\n",
    "            except Exception as e:\n",
    "                print(f\"Error reading {file}: {e}\")\n",
    "\n",
    "# ==== Create and Save DataFrame ====\n",
    "df = pd.DataFrame({\n",
    "    'RecordID': record_ids,\n",
    "    'Labels': label_lists\n",
    "})\n",
    "\n",
    "df.to_csv('REFERENCE.csv', index=False)\n",
    "print(f\"✅ Saved REFERENCE.csv with {len(df)} records.\")\n"
   ]
  },
  {
   "cell_type": "code",
   "execution_count": 5,
   "id": "68c78ad0-cd75-4740-b9a6-d145869c7fe8",
   "metadata": {},
   "outputs": [
    {
     "name": "stdout",
     "output_type": "stream",
     "text": [
      "⚠️ Error loading JS00001-checkpoint: [Errno 2] No such file or directory: '/Users/anurag/Desktop/venv/chapman_data/WFDBRecords/01/010/.ipynb_checkpoints/JS00001.mat'\n",
      "⚠️ Error loading JS01052: time data '/' does not match format '%d/%m/%Y'\n",
      "⚠️ Error loading JS23074: list index out of range\n",
      "✅ Loaded 45150 ECG signals with shape (45150, 5000)\n",
      "🩺 Classes: ['1AVB' '2AVB' '2AVB1' '3AVB' 'ABI' 'AF' 'AFIB' 'ALS' 'APB' 'AQW' 'ARS'\n",
      " 'AT' 'AVB' 'AVRT' 'CCR' 'CR' 'ERV' 'FQRS' 'IVB' 'JEB' 'JPT' 'LFBBB' 'LVH'\n",
      " 'LVQRSAL' 'MISW' 'PRIE' 'PWC' 'QTIE' 'RAH' 'RBBB' 'RVH' 'SA' 'SAAWR' 'SB'\n",
      " 'SR' 'ST' 'STDD' 'STE' 'STTC' 'STTU' 'SVT' 'TWC' 'TWO' 'UNK_10370003'\n",
      " 'UNK_106068003' 'UNK_111288001' 'UNK_164896001' 'UNK_17366009'\n",
      " 'UNK_233892002' 'UNK_251120003' 'UNK_251166008' 'UNK_251170000'\n",
      " 'UNK_251187003' 'UNK_251205003' 'UNK_251223006' 'UNK_29320008'\n",
      " 'UNK_365413008' 'UNK_418818005' 'UNK_425856008' 'UNK_426183003'\n",
      " 'UNK_426627000' 'UNK_426648003' 'UNK_426664006' 'UNK_427172004'\n",
      " 'UNK_445118002' 'UNK_445211001' 'UNK_446813000' 'UNK_49578007'\n",
      " 'UNK_50799005' 'UNK_54329005' 'UNK_55827005' 'UNK_55930002' 'UNK_5609005'\n",
      " 'UNK_57054005' 'UNK_61277005' 'UNK_61721007' 'UNK_63593006' 'UNK_6374002'\n",
      " 'UNK_65778007' 'UNK_67741000119109' 'UNK_67751000119106' 'UNK_713426002'\n",
      " 'UNK_713427006' 'UNK_733534002' 'UNK_77867006' 'UNK_81898007' 'UW' 'VB'\n",
      " 'VEB' 'VET' 'VFW' 'VPB' 'VPE' 'WPW']\n"
     ]
    }
   ],
   "source": [
    "import os\n",
    "import wfdb\n",
    "import pandas as pd\n",
    "import numpy as np\n",
    "from sklearn.preprocessing import MultiLabelBinarizer\n",
    "\n",
    "# Load REFERENCE.csv\n",
    "df = pd.read_csv('REFERENCE.csv')\n",
    "record_ids = set(df['RecordID'].tolist())\n",
    "record_to_labels = dict(zip(df['RecordID'], df['Labels']))\n",
    "\n",
    "# Store data\n",
    "X = []\n",
    "Y = []\n",
    "\n",
    "# Walk all nested folders inside WFDBRecords\n",
    "data_dir = './chapman_data/WFDBRecords/'\n",
    "\n",
    "for root, _, files in os.walk(data_dir):\n",
    "    for file in files:\n",
    "        if file.endswith('.hea'):\n",
    "            record_id = file.replace('.hea', '')\n",
    "            if record_id not in record_ids:\n",
    "                continue  # Skip unknown records\n",
    "\n",
    "            full_path = os.path.join(root, record_id)\n",
    "\n",
    "            try:\n",
    "                record = wfdb.rdrecord(full_path)\n",
    "                lead_index = record.sig_name.index('I')  # Extract Lead I\n",
    "                signal = record.p_signal[:, lead_index]  # shape: (5000,)\n",
    "\n",
    "                X.append(signal)\n",
    "                label_str = record_to_labels[record_id]\n",
    "                Y.append(label_str.split(','))  # For multi-label binarization\n",
    "\n",
    "            except Exception as e:\n",
    "                print(f\"⚠️ Error loading {record_id}: {e}\")\n",
    "\n",
    "# Convert to arrays\n",
    "X = np.stack(X)  # shape: (N, 5000)\n",
    "mlb = MultiLabelBinarizer()\n",
    "Y_bin = mlb.fit_transform(Y)\n",
    "\n",
    "print(f\"✅ Loaded {len(X)} ECG signals with shape {X.shape}\")\n",
    "print(f\"🩺 Classes: {mlb.classes_}\")\n"
   ]
  },
  {
   "cell_type": "code",
   "execution_count": 6,
   "id": "0a090ee1-ccd2-41a9-b1fc-89671cce3280",
   "metadata": {},
   "outputs": [
    {
     "data": {
      "image/png": "[encoded data removed]",
      "text/plain": [
       "<Figure size 640x480 with 1 Axes>"
      ]
     },
     "metadata": {},
     "output_type": "display_data"
    }
   ],
   "source": [
    "import matplotlib.pyplot as plt\n",
    "\n",
    "plt.plot(X[0])\n",
    "plt.title(f\"ECG waveform for: {Y[0]}\")\n",
    "plt.xlabel(\"Time (samples)\")\n",
    "plt.ylabel(\"Amplitude (mV)\")\n",
    "plt.grid(True)\n",
    "plt.show()"
   ]
  },
  {
   "cell_type": "code",
   "execution_count": 7,
   "id": "594193da-93a4-4d19-aacf-51cf163a15be",
   "metadata": {},
   "outputs": [
    {
     "name": "stdout",
     "output_type": "stream",
     "text": [
      "AF: 8060\n",
      "AFIB: 1780\n",
      "APB: 1312\n",
      "AT: 297\n",
      "JPT: 11\n",
      "SA: 2550\n",
      "SAAWR: 2\n",
      "SB: 16559\n",
      "SR: 8125\n",
      "ST: 7254\n",
      "SVT: 724\n",
      "VPB: 294\n"
     ]
    }
   ],
   "source": [
    "leadI_labels = ['SR', 'SB', 'ST', 'AF', 'AFIB', 'SA', 'SAAWR', 'SVT', 'APB', 'AT', 'VPB', 'JPT']\n",
    "\n",
    "filtered_X = []\n",
    "filtered_Y = []\n",
    "\n",
    "for i in range(len(X)):\n",
    "    labels = [label for label in Y[i] if label in leadI_labels]\n",
    "    if labels:  # Keep only if some valid labels remain\n",
    "        filtered_X.append(X[i])\n",
    "        filtered_Y.append(labels)\n",
    "\n",
    "filtered_X = np.stack(filtered_X)\n",
    "mlb = MultiLabelBinarizer()\n",
    "filtered_Y_bin = mlb.fit_transform(filtered_Y)\n",
    "\n",
    "import numpy as np\n",
    "counts = np.sum(filtered_Y_bin, axis=0)\n",
    "for label, count in zip(mlb.classes_, counts):\n",
    "    print(f\"{label}: {count}\")\n"
   ]
  },
  {
   "cell_type": "code",
   "execution_count": 8,
   "id": "66f42ab2-4fd9-4656-ad7d-a6f2d06d8e75",
   "metadata": {},
   "outputs": [
    {
     "name": "stdout",
     "output_type": "stream",
     "text": [
      "(35384, 5000, 1) (35384, 12)\n"
     ]
    }
   ],
   "source": [
    "from sklearn.model_selection import train_test_split\n",
    "\n",
    "X_train, X_val, y_train, y_val = train_test_split(\n",
    "    filtered_X, filtered_Y_bin, test_size=0.2, random_state=42)\n",
    "\n",
    "# Keras needs 3D input (N, 5000, 1)\n",
    "X_train = X_train[..., np.newaxis]\n",
    "X_val = X_val[..., np.newaxis]\n",
    "\n",
    "print(X_train.shape, y_train.shape)\n"
   ]
  },
  {
   "cell_type": "code",
   "execution_count": 9,
   "id": "be742552-8306-4122-9a3e-edab610c71d8",
   "metadata": {},
   "outputs": [
    {
     "data": {
      "image/png": "[encoded data removed]",
      "text/plain": [
       "<Figure size 1200x400 with 1 Axes>"
      ]
     },
     "metadata": {},
     "output_type": "display_data"
    },
    {
     "name": "stdout",
     "output_type": "stream",
     "text": [
      "Labels: ['AFIB']\n"
     ]
    },
    {
     "data": {
      "text/plain": [
       "[('AFIB',)]"
      ]
     },
     "execution_count": 9,
     "metadata": {},
     "output_type": "execute_result"
    }
   ],
   "source": [
    "import matplotlib.pyplot as plt\n",
    "\n",
    "# Pick a sample index (e.g., 0)\n",
    "i = 0\n",
    "\n",
    "# Plot the ECG waveform\n",
    "plt.figure(figsize=(12, 4))\n",
    "plt.plot(filtered_X[i], color='blue')\n",
    "plt.title(f\"Lead I ECG Sample #{i}\")\n",
    "plt.xlabel(\"Time (samples @ 500Hz → 5000 = 10 sec)\")\n",
    "plt.ylabel(\"Voltage (μV)\")\n",
    "plt.grid(True)\n",
    "plt.show()\n",
    "\n",
    "print(\"Labels:\", filtered_Y[i])  # raw list\n",
    "mlb.inverse_transform(np.array([filtered_Y_bin[i]]))"
   ]
  },
  {
   "cell_type": "code",
   "execution_count": 10,
   "id": "5371c1c5-74a1-4825-8b0a-17ceb13ef35c",
   "metadata": {},
   "outputs": [],
   "source": [
    "import torch\n",
    "from torch.utils.data import Dataset, DataLoader\n",
    "import torch.nn as nn\n",
    "import numpy as np\n",
    "\n",
    "# Convert your NumPy arrays to float32 (important for PyTorch)\n",
    "X_train = X_train.astype(np.float32)\n",
    "X_val = X_val.astype(np.float32)\n",
    "y_train = y_train.astype(np.float32)\n",
    "y_val = y_val.astype(np.float32)\n",
    "\n",
    "# Custom PyTorch Dataset\n",
    "class ECGDataset(Dataset):\n",
    "    def __init__(self, signals, labels):\n",
    "        self.signals = signals\n",
    "        self.labels = labels\n",
    "\n",
    "    def __len__(self):\n",
    "        return len(self.signals)\n",
    "\n",
    "    def __getitem__(self, idx):\n",
    "        signal = self.signals[idx]        # shape: (5000, 1)\n",
    "        label = self.labels[idx]          # multi-label vector\n",
    "        return torch.tensor(signal), torch.tensor(label)\n",
    "\n",
    "train_dataset = ECGDataset(X_train, y_train)\n",
    "val_dataset = ECGDataset(X_val, y_val)\n",
    "\n",
    "train_loader = DataLoader(train_dataset, batch_size=64, shuffle=True)\n",
    "val_loader = DataLoader(val_dataset, batch_size=64, shuffle=False)\n"
   ]
  },
  {
   "cell_type": "code",
   "execution_count": 11,
   "id": "3da5256d-b853-4b75-bb28-9b24e0805ad6",
   "metadata": {},
   "outputs": [],
   "source": [
    "class ECG1DCNN(nn.Module):\n",
    "    def __init__(self, num_classes):\n",
    "        super(ECG1DCNN, self).__init__()\n",
    "        self.conv1 = nn.Conv1d(1, 16, kernel_size=7, stride=1, padding=3)\n",
    "        self.bn1 = nn.BatchNorm1d(16)\n",
    "        self.pool1 = nn.MaxPool1d(2)\n",
    "\n",
    "        self.conv2 = nn.Conv1d(16, 32, kernel_size=5, stride=1, padding=2)\n",
    "        self.bn2 = nn.BatchNorm1d(32)\n",
    "        self.pool2 = nn.MaxPool1d(2)\n",
    "\n",
    "        self.conv3 = nn.Conv1d(32, 64, kernel_size=3, stride=1, padding=1)\n",
    "        self.bn3 = nn.BatchNorm1d(64)\n",
    "        self.pool3 = nn.MaxPool1d(2)\n",
    "\n",
    "        self.flattened_size = 64 * (5000 // 8)  # After 3 poolings (factor of 8)\n",
    "\n",
    "        self.fc1 = nn.Linear(self.flattened_size, 128)\n",
    "        self.dropout = nn.Dropout(0.5)\n",
    "        self.fc2 = nn.Linear(128, num_classes)\n",
    "        self.sigmoid = nn.Sigmoid()  # multi-label output\n",
    "\n",
    "    def forward(self, x):\n",
    "        x = x.permute(0, 2, 1)  # (batch, 1, 5000)\n",
    "        x = self.pool1(torch.relu(self.bn1(self.conv1(x))))\n",
    "        x = self.pool2(torch.relu(self.bn2(self.conv2(x))))\n",
    "        x = self.pool3(torch.relu(self.bn3(self.conv3(x))))\n",
    "        x = x.view(-1, self.flattened_size)\n",
    "        x = self.dropout(torch.relu(self.fc1(x)))\n",
    "        x = self.sigmoid(self.fc2(x))  # multi-label output\n",
    "        return x\n"
   ]
  },
  {
   "cell_type": "code",
   "execution_count": 12,
   "id": "a25e9270-555a-4416-8ed9-bf9f4563b751",
   "metadata": {},
   "outputs": [],
   "source": [
    "device = torch.device(\"mps\" if torch.backends.mps.is_available() else \"cpu\")\n",
    "\n",
    "model = ECG1DCNN(num_classes=y_train.shape[1]).to(device)\n",
    "criterion = nn.BCELoss()  # because output is multi-label (sigmoid)\n",
    "optimizer = torch.optim.Adam(model.parameters(), lr=0.001)\n"
   ]
  },
  {
   "cell_type": "code",
   "execution_count": 13,
   "id": "0416c061-5a10-4882-a064-f5b1256bf655",
   "metadata": {},
   "outputs": [
    {
     "name": "stdout",
     "output_type": "stream",
     "text": [
      "Epoch 1, Loss: 0.2486\n",
      "Epoch 2, Loss: 0.2028\n",
      "Epoch 3, Loss: 0.1925\n",
      "Epoch 4, Loss: 0.1864\n",
      "Epoch 5, Loss: 0.1811\n"
     ]
    }
   ],
   "source": [
    "for epoch in range(5):  # Increase this for better results\n",
    "    model.train()\n",
    "    total_loss = 0\n",
    "    for batch in train_loader:\n",
    "        inputs, targets = batch\n",
    "        inputs, targets = inputs.to(device), targets.to(device)\n",
    "\n",
    "        outputs = model(inputs)\n",
    "        loss = criterion(outputs, targets)\n",
    "\n",
    "        optimizer.zero_grad()\n",
    "        loss.backward()\n",
    "        optimizer.step()\n",
    "\n",
    "        total_loss += loss.item()\n",
    "\n",
    "    print(f\"Epoch {epoch+1}, Loss: {total_loss/len(train_loader):.4f}\")\n"
   ]
  },
  {
   "cell_type": "code",
   "execution_count": 14,
   "id": "8df07fda-b9a2-4dcb-85a9-aeca357b8ddd",
   "metadata": {},
   "outputs": [
    {
     "name": "stdout",
     "output_type": "stream",
     "text": [
      "              precision    recall  f1-score   support\n",
      "\n",
      "          AF       0.67      0.00      0.00      1581\n",
      "        AFIB       0.00      0.00      0.00       336\n",
      "         APB       0.00      0.00      0.00       260\n",
      "          AT       0.00      0.00      0.00        54\n",
      "         JPT       0.00      0.00      0.00         1\n",
      "          SA       0.00      0.00      0.00       529\n",
      "       SAAWR       0.00      0.00      0.00         1\n",
      "          SB       0.92      0.80      0.86      3362\n",
      "          SR       0.00      0.00      0.00      1652\n",
      "          ST       0.65      0.58      0.61      1417\n",
      "         SVT       0.00      0.00      0.00       154\n",
      "         VPB       0.00      0.00      0.00        59\n",
      "\n",
      "   micro avg       0.84      0.37      0.52      9406\n",
      "   macro avg       0.19      0.12      0.12      9406\n",
      "weighted avg       0.54      0.37      0.40      9406\n",
      " samples avg       0.40      0.39      0.39      9406\n",
      "\n"
     ]
    },
    {
     "name": "stderr",
     "output_type": "stream",
     "text": [
      "/Users/anurag/Desktop/venv/lib/python3.13/site-packages/sklearn/metrics/_classification.py:1731: UndefinedMetricWarning: Precision is ill-defined and being set to 0.0 in labels with no predicted samples. Use `zero_division` parameter to control this behavior.\n",
      "  _warn_prf(average, modifier, f\"{metric.capitalize()} is\", result.shape[0])\n",
      "/Users/anurag/Desktop/venv/lib/python3.13/site-packages/sklearn/metrics/_classification.py:1731: UndefinedMetricWarning: Precision is ill-defined and being set to 0.0 in samples with no predicted labels. Use `zero_division` parameter to control this behavior.\n",
      "  _warn_prf(average, modifier, f\"{metric.capitalize()} is\", result.shape[0])\n"
     ]
    }
   ],
   "source": [
    "from sklearn.metrics import f1_score, classification_report\n",
    "\n",
    "model.eval()\n",
    "all_preds = []\n",
    "all_targets = []\n",
    "\n",
    "with torch.no_grad():\n",
    "    for batch in val_loader:\n",
    "        inputs, targets = batch\n",
    "        inputs = inputs.to(device)\n",
    "        outputs = model(inputs)\n",
    "        preds = (outputs.cpu().numpy() > 0.5).astype(int)\n",
    "        all_preds.extend(preds)\n",
    "        all_targets.extend(targets.numpy())\n",
    "\n",
    "print(classification_report(all_targets, all_preds, target_names=mlb.classes_))\n"
   ]
  },
  {
   "cell_type": "code",
   "execution_count": 15,
   "id": "0329a601-af1e-44d9-aa54-02fb5f7e66b5",
   "metadata": {},
   "outputs": [
    {
     "name": "stdout",
     "output_type": "stream",
     "text": [
      "AF: 6479\n",
      "AFIB: 1444\n",
      "APB: 1052\n",
      "AT: 243\n",
      "JPT: 10\n",
      "SA: 2021\n",
      "SAAWR: 1\n",
      "SB: 13197\n",
      "SR: 6473\n",
      "ST: 5837\n",
      "SVT: 570\n",
      "VPB: 235\n"
     ]
    }
   ],
   "source": [
    "import numpy as np\n",
    "from collections import Counter\n",
    "\n",
    "# Count how many times each label appears in y_train (multi-hot encoded)\n",
    "label_counts = np.sum(y_train, axis=0)\n",
    "\n",
    "# Display each label with its count\n",
    "for label, count in zip(mlb.classes_, label_counts):\n",
    "    print(f\"{label}: {int(count)}\")\n"
   ]
  },
  {
   "cell_type": "code",
   "execution_count": 16,
   "id": "e4471650-30a2-4704-8d1c-e03f5da1f1d9",
   "metadata": {},
   "outputs": [],
   "source": [
    "#Now we will do without class imbalance"
   ]
  },
  {
   "cell_type": "code",
   "execution_count": 17,
   "id": "c84b99d3-ed9e-4838-8f3c-c48a09754e78",
   "metadata": {},
   "outputs": [
    {
     "name": "stdout",
     "output_type": "stream",
     "text": [
      "✅ Keeping labels: ['AF', 'AFIB', 'APB', 'SA', 'SB', 'SR', 'ST', 'SVT']\n",
      "✅ 44111 samples retained after filtering for frequent labels.\n",
      "🟩 Final dataset shape: (44111, 5000, 1) (44111, 8)\n"
     ]
    }
   ],
   "source": [
    "import numpy as np\n",
    "from sklearn.preprocessing import MultiLabelBinarizer\n",
    "\n",
    "# === Step 1: Count label occurrences ===\n",
    "label_counts = np.sum(filtered_Y_bin, axis=0)\n",
    "label_threshold = 500\n",
    "\n",
    "# Filter labels that occur more than threshold\n",
    "common_label_indices = np.where(label_counts > label_threshold)[0]\n",
    "common_labels = [mlb.classes_[i] for i in common_label_indices]\n",
    "print(\"✅ Keeping labels:\", common_labels)\n",
    "\n",
    "# === Step 2: Filter dataset by these labels ===\n",
    "new_X = []\n",
    "new_Y = []\n",
    "\n",
    "for x, y_labels in zip(filtered_X, filtered_Y):\n",
    "    # Keep only common labels\n",
    "    y_filtered = [label for label in y_labels if label in common_labels]\n",
    "    if y_filtered:  # Only keep samples with at least one relevant label\n",
    "        new_X.append(x)\n",
    "        new_Y.append(y_filtered)\n",
    "\n",
    "print(f\"✅ {len(new_X)} samples retained after filtering for frequent labels.\")\n",
    "\n",
    "# === Step 3: Re-binarize with reduced label set ===\n",
    "mlb_new = MultiLabelBinarizer(classes=common_labels)\n",
    "new_Y_bin = mlb_new.fit_transform(new_Y)\n",
    "\n",
    "# Convert to arrays and reshape for PyTorch\n",
    "X = np.array(new_X)[..., np.newaxis]  # shape: (N, 5000, 1)\n",
    "Y = new_Y_bin\n",
    "\n",
    "print(\"🟩 Final dataset shape:\", X.shape, Y.shape)\n"
   ]
  },
  {
   "cell_type": "code",
   "execution_count": 18,
   "id": "4450c8ca-456a-4e9c-934e-f6e35e922307",
   "metadata": {},
   "outputs": [],
   "source": [
    "#train test split "
   ]
  },
  {
   "cell_type": "code",
   "execution_count": 19,
   "id": "0dd47f70-15ce-4b10-b5b3-60b2aa82849a",
   "metadata": {},
   "outputs": [
    {
     "name": "stdout",
     "output_type": "stream",
     "text": [
      "(35288, 5000, 1) (35288, 8)\n"
     ]
    }
   ],
   "source": [
    "from sklearn.model_selection import train_test_split\n",
    "\n",
    "X_train, X_val, y_train, y_val = train_test_split(\n",
    "    X, Y, test_size=0.2, random_state=42)\n",
    "\n",
    "print(X_train.shape, y_train.shape)\n"
   ]
  },
  {
   "cell_type": "code",
   "execution_count": 20,
   "id": "51da263c-5edf-4b8f-ad16-20906eec2e99",
   "metadata": {},
   "outputs": [],
   "source": [
    "import torch\n",
    "from torch.utils.data import DataLoader, TensorDataset\n",
    "\n",
    "#convert to tensors\n",
    "X_train_tensor = torch.tensor(X_train, dtype=torch.float32)\n",
    "y_train_tensor = torch.tensor(y_train, dtype=torch.float32)\n",
    "X_val_tensor = torch.tensor(X_val, dtype=torch.float32)\n",
    "y_val_tensor = torch.tensor(y_val, dtype=torch.float32)\n",
    "\n",
    "# Create DataLoaders\n",
    "train_loader = DataLoader(TensorDataset(X_train_tensor, y_train_tensor), batch_size=64, shuffle=True)\n",
    "val_loader = DataLoader(TensorDataset(X_val_tensor, y_val_tensor), batch_size=64)\n"
   ]
  },
  {
   "cell_type": "code",
   "execution_count": 21,
   "id": "bd5b7e34-08c9-405b-ba83-9f9c7edbced8",
   "metadata": {},
   "outputs": [],
   "source": [
    "import torch.nn as nn\n",
    "\n",
    "class ECGCNN(nn.Module):\n",
    "    def __init__(self, num_classes):\n",
    "        super(ECGCNN, self).__init__()\n",
    "        self.model = nn.Sequential(\n",
    "            nn.Conv1d(1, 16, kernel_size=7, stride=1, padding=3),\n",
    "            nn.ReLU(),\n",
    "            nn.MaxPool1d(2),\n",
    "            nn.Conv1d(16, 32, kernel_size=5, padding=2),\n",
    "            nn.ReLU(),\n",
    "            nn.MaxPool1d(2),\n",
    "            nn.Flatten(),\n",
    "            nn.Linear(32 * 1250, 128),\n",
    "            nn.ReLU(),\n",
    "            nn.Dropout(0.3),\n",
    "            nn.Linear(128, num_classes),\n",
    "            nn.Sigmoid()  # For multi-label\n",
    "        )\n",
    "\n",
    "    def forward(self, x):\n",
    "        return self.model(x)\n"
   ]
  },
  {
   "cell_type": "code",
   "execution_count": null,
   "id": "e318403d-f4ce-4318-994f-61047656b282",
   "metadata": {},
   "outputs": [],
   "source": []
  },
  {
   "cell_type": "code",
   "execution_count": 22,
   "id": "9d1f84bc-7fe7-4f44-a5a3-68b00e2ae1d3",
   "metadata": {},
   "outputs": [
    {
     "name": "stdout",
     "output_type": "stream",
     "text": [
      "Epoch 1, Loss: 0.3189\n",
      "Epoch 2, Loss: 0.2672\n",
      "Epoch 3, Loss: 0.2141\n",
      "Epoch 4, Loss: 0.1863\n",
      "Epoch 5, Loss: 0.1652\n"
     ]
    }
   ],
   "source": [
    "#training the model\n",
    "\n",
    "device = torch.device('cuda' if torch.cuda.is_available() else 'cpu')\n",
    "model = ECGCNN(num_classes=Y.shape[1]).to(device)\n",
    "\n",
    "criterion = nn.BCELoss()  # Binary Cross-Entropy for multi-label\n",
    "optimizer = torch.optim.Adam(model.parameters(), lr=1e-3)\n",
    "\n",
    "for epoch in range(5):  # Increase this as needed\n",
    "    model.train()\n",
    "    total_loss = 0\n",
    "    for batch in train_loader:\n",
    "        inputs, targets = batch\n",
    "        inputs, targets = inputs.to(device), targets.to(device)\n",
    "        inputs = inputs.permute(0, 2, 1)  # (N, 1, 5000) for Conv1d\n",
    "\n",
    "        outputs = model(inputs)\n",
    "        loss = criterion(outputs, targets)\n",
    "\n",
    "        optimizer.zero_grad()\n",
    "        loss.backward()\n",
    "        optimizer.step()\n",
    "\n",
    "        total_loss += loss.item()\n",
    "\n",
    "    print(f\"Epoch {epoch+1}, Loss: {total_loss / len(train_loader):.4f}\")\n"
   ]
  },
  {
   "cell_type": "code",
   "execution_count": 23,
   "id": "99b9ecce-f29d-49c7-9936-275ebc12f83f",
   "metadata": {},
   "outputs": [
    {
     "name": "stdout",
     "output_type": "stream",
     "text": [
      "F1-score (micro): 0.7020008781283322\n",
      "F1-score (macro): 0.3564444117816981\n",
      "\n",
      "Classification Report:\n",
      "              precision    recall  f1-score   support\n",
      "\n",
      "          AF       0.58      0.27      0.37      1630\n",
      "        AFIB       0.00      0.00      0.00       350\n",
      "         APB       0.00      0.00      0.00       274\n",
      "          SA       1.00      0.00      0.00       553\n",
      "          SB       0.95      0.96      0.95      3385\n",
      "          SR       0.74      0.64      0.69      1555\n",
      "          ST       0.84      0.65      0.73      1416\n",
      "         SVT       0.69      0.06      0.11       149\n",
      "\n",
      "   micro avg       0.84      0.60      0.70      9312\n",
      "   macro avg       0.60      0.32      0.36      9312\n",
      "weighted avg       0.77      0.60      0.64      9312\n",
      " samples avg       0.63      0.62      0.62      9312\n",
      "\n"
     ]
    },
    {
     "name": "stderr",
     "output_type": "stream",
     "text": [
      "/Users/anurag/Desktop/venv/lib/python3.13/site-packages/sklearn/metrics/_classification.py:1731: UndefinedMetricWarning: Precision is ill-defined and being set to 0.0 in labels with no predicted samples. Use `zero_division` parameter to control this behavior.\n",
      "  _warn_prf(average, modifier, f\"{metric.capitalize()} is\", result.shape[0])\n",
      "/Users/anurag/Desktop/venv/lib/python3.13/site-packages/sklearn/metrics/_classification.py:1731: UndefinedMetricWarning: Precision is ill-defined and being set to 0.0 in samples with no predicted labels. Use `zero_division` parameter to control this behavior.\n",
      "  _warn_prf(average, modifier, f\"{metric.capitalize()} is\", result.shape[0])\n"
     ]
    }
   ],
   "source": [
    "#evaluate\n",
    "\n",
    "from sklearn.metrics import classification_report, f1_score, accuracy_score\n",
    "\n",
    "model.eval()\n",
    "all_preds = []\n",
    "all_targets = []\n",
    "\n",
    "with torch.no_grad():\n",
    "    for batch in val_loader:\n",
    "        inputs, targets = batch\n",
    "        inputs = inputs.to(device).permute(0, 2, 1)\n",
    "        outputs = model(inputs).cpu().numpy()\n",
    "        preds = (outputs > 0.5).astype(int)\n",
    "\n",
    "        all_preds.extend(preds)\n",
    "        all_targets.extend(targets.numpy())\n",
    "\n",
    "# Evaluation\n",
    "print(\"F1-score (micro):\", f1_score(all_targets, all_preds, average='micro'))\n",
    "print(\"F1-score (macro):\", f1_score(all_targets, all_preds, average='macro'))\n",
    "\n",
    "from sklearn.preprocessing import MultiLabelBinarizer\n",
    "print(\"\\nClassification Report:\")\n",
    "print(classification_report(all_targets, all_preds, target_names=mlb_new.classes_))\n"
   ]
  },
  {
   "cell_type": "code",
   "execution_count": null,
   "id": "186dad58-fbb8-4211-9caf-32206e97733d",
   "metadata": {},
   "outputs": [],
   "source": []
  }
 ],
 "metadata": {
  "kernelspec": {
   "display_name": "Python 3 (ipykernel)",
   "language": "python",
   "name": "python3"
  },
  "language_info": {
   "codemirror_mode": {
    "name": "ipython",
    "version": 3
   },
   "file_extension": ".py",
   "mimetype": "text/x-python",
   "name": "python",
   "nbconvert_exporter": "python",
   "pygments_lexer": "ipython3",
   "version": "3.13.5"
  }
 },
 "nbformat": 4,
 "nbformat_minor": 5
}
